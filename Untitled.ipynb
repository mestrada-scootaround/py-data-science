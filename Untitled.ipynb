{
 "cells": [
  {
   "cell_type": "code",
   "execution_count": 1,
   "id": "961cc3fa-634d-4d2d-9106-e231307ef571",
   "metadata": {},
   "outputs": [],
   "source": [
    "from sklearn.datasets import load_iris\n",
    "iris = load_iris()"
   ]
  },
  {
   "cell_type": "code",
   "execution_count": 2,
   "id": "9924f20f-c357-41f5-8518-ed81cccf3db5",
   "metadata": {},
   "outputs": [
    {
     "data": {
      "text/plain": [
       "numpy.ndarray"
      ]
     },
     "execution_count": 2,
     "metadata": {},
     "output_type": "execute_result"
    }
   ],
   "source": [
    "### Split the data\n",
    "# X = inputs (our data) | Y = target - the types of the 3 iris flower types\n",
    "X = iris.data\n",
    "y = iris.target\n",
    "\n",
    "feature_names = iris.feature_names\n",
    "target_names = iris.target_names\n",
    "type(X)\n",
    "# feature_names\n",
    "# target_names"
   ]
  },
  {
   "cell_type": "code",
   "execution_count": 3,
   "id": "746f7443-ed6f-41be-9dcb-0adf87a84156",
   "metadata": {},
   "outputs": [
    {
     "name": "stdout",
     "output_type": "stream",
     "text": [
      "(120, 4)\n",
      "(30, 4)\n"
     ]
    }
   ],
   "source": [
    "### Create a Model\n",
    "from sklearn.model_selection import train_test_split\n",
    "# test_size splitting between train and data size\n",
    "# ideally we need more train data than test\n",
    "X_train, X_test, y_train, y_test = train_test_split(X, y, test_size=0.2) # create train and test datasets for X and Y, the higher test_size (more data to learn) the higher accuracy\n",
    "print(X_train.shape) # lower test_size higher training and lessere testing\n",
    "print(X_test.shape) # higher test_size lower training and higher testing"
   ]
  },
  {
   "cell_type": "code",
   "execution_count": 4,
   "id": "5b6a7c46-c9d2-4d99-ad46-2ac70ac69edd",
   "metadata": {},
   "outputs": [],
   "source": [
    "### Create a Model\n",
    "from sklearn.neighbors import KNeighborsClassifier\n",
    "# how many neighbors or classification we want\n",
    "knn = KNeighborsClassifier(n_neighbors=3) # higher value creates more segments\n",
    "knn.fit(X_train, y_train)\n",
    "y_pred = knn.predict(X_test)"
   ]
  },
  {
   "cell_type": "code",
   "execution_count": 5,
   "id": "8175882f-dc75-423a-894e-b3f7c718ff39",
   "metadata": {},
   "outputs": [
    {
     "name": "stdout",
     "output_type": "stream",
     "text": [
      "1.0\n"
     ]
    }
   ],
   "source": [
    "from sklearn import metrics\n",
    "print(metrics.accuracy_score(y_test, y_pred)) # takes the correct answers (y_test) and prediction (y_pred)"
   ]
  },
  {
   "cell_type": "code",
   "execution_count": 6,
   "id": "790d394f-2800-4c54-873d-17e1a4c430a6",
   "metadata": {},
   "outputs": [],
   "source": [
    "### Ways to Improve the data\n",
    "# 1. Adjust test_size (see Create a Model)\n",
    "# 2. Adjust KNeighborsClassifier (ie: increate n_neighbors value)\n",
    "# 3. More columns/features - if there was another feature we can look at may give better score\n",
    "# 4. The algorithm used"
   ]
  },
  {
   "cell_type": "code",
   "execution_count": 8,
   "id": "af739400-9cb4-42f3-b1f1-f1646178a95e",
   "metadata": {},
   "outputs": [
    {
     "name": "stdout",
     "output_type": "stream",
     "text": [
      "predictions:  ['versicolor', 'virginica']\n"
     ]
    }
   ],
   "source": [
    "sample = [[3,4,5,2], [2,3,5,4]]\n",
    "predictions = knn.predict(sample)\n",
    "pred_species = [iris.target_names[p] for p in predictions]\n",
    "print(\"predictions: \", pred_species)"
   ]
  },
  {
   "cell_type": "code",
   "execution_count": 22,
   "id": "aa420513-0a65-4837-b7cf-6ede1ca2d189",
   "metadata": {},
   "outputs": [
    {
     "data": {
      "text/plain": [
       "['mlbrain.joblib']"
      ]
     },
     "execution_count": 22,
     "metadata": {},
     "output_type": "execute_result"
    }
   ],
   "source": [
    "### Model persistence - next time we want to make a prediction, we save this function/model to a file that we can re-use\n",
    "## joblib is used for this\n",
    "from joblib import dump, load\n",
    "dump(knn, 'mlbrain.joblib') # save the model in a binary file called mlbrain.joblib"
   ]
  },
  {
   "cell_type": "code",
   "execution_count": 24,
   "id": "8abc645f-6d1d-424a-aaec-be883b39f515",
   "metadata": {},
   "outputs": [
    {
     "name": "stdout",
     "output_type": "stream",
     "text": [
      "predictions:  ['versicolor', 'virginica']\n"
     ]
    }
   ],
   "source": [
    "model = load('mlbrain.joblib') # load the saved model\n",
    "model.predict(X_test) # run prediction\n",
    "# test the sample data created earlier and use the model we saved to predict\n",
    "sample = [[3,4,5,2], [2,3,5,4]]\n",
    "predictions = model.predict(sample)\n",
    "pred_species = [iris.target_names[p] for p in predictions]\n",
    "print(\"predictions: \", pred_species)"
   ]
  },
  {
   "cell_type": "code",
   "execution_count": null,
   "id": "f037ecc9-4ca7-48b0-b3d9-46dddfbe7bf9",
   "metadata": {},
   "outputs": [],
   "source": []
  }
 ],
 "metadata": {
  "kernelspec": {
   "display_name": "Python 3 (ipykernel)",
   "language": "python",
   "name": "python3"
  },
  "language_info": {
   "codemirror_mode": {
    "name": "ipython",
    "version": 3
   },
   "file_extension": ".py",
   "mimetype": "text/x-python",
   "name": "python",
   "nbconvert_exporter": "python",
   "pygments_lexer": "ipython3",
   "version": "3.11.2"
  }
 },
 "nbformat": 4,
 "nbformat_minor": 5
}
